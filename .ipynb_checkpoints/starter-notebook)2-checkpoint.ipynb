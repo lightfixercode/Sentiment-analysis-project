{
 "cells": [
  {
   "cell_type": "markdown",
   "id": "f93f4cee",
   "metadata": {
    "ExecuteTime": {
     "end_time": "2021-06-11T09:24:53.643384Z",
     "start_time": "2021-06-11T09:24:53.622385Z"
    }
   },
   "source": [
    "# Advanced Classification Predict Student Solution\n",
    "\n",
    "© Explore Data Science Academy\n",
    "\n",
    "---\n",
    "### Honour Code\n",
    "\n",
    "We {**TEAM_NM3**}, confirm - by submitting this document - that the solutions in this notebook are a result of our own work as a Team and that we abide by the [EDSA honour code](https://drive.google.com/file/d/1QDCjGZJ8-FmJE3bZdIQNwnJyQKPhHZBn/view?usp=sharing).\n",
    "\n",
    "Non-compliance with the honour code constitutes a material breach of contract.\n",
    "\n",
    "### Predict Overview: EDSA - Twitter Sentiment Classification\n",
    "Predict an individual’s belief in climate change based on their tweets!\n",
    "\n",
    "Many companies are built around lessening one’s environmental impact or carbon footprint. They offer products and services that are environmentally friendly and sustainable, in line with their values and ideals. They would like to determine how people perceive climate change and whether or not they believe it is a real threat. This would add to their market research efforts in gauging how their product/service may be received.\n",
    "\n",
    "With this context, EDSA is challenging you during the Classification Sprint with the task of creating a Machine Learning model that is able to classify whether or not a person believes in climate change, based on their novel tweet data.\n",
    "\n",
    "Providing an accurate and robust solution to this task gives companies access to a broad base of consumer sentiment, spanning multiple demographic and geographic categories - thus increasing their insights and informing future marketing strategies.\n",
    "\n",
    "#### Where is this data from?\n",
    "The collection of this data was funded by a Canada Foundation for Innovation JELF Grant to Chris Bauch, University of Waterloo. The dataset aggregates tweets pertaining to climate change collected between Apr 27, 2015 and Feb 21, 2018. In total, 43,943 tweets were collected. Each tweet is labelled as one of 4 classes, which are described below.\n",
    "\n",
    "##### Class Description\n",
    "\n",
    "- 2 News: the tweet links to factual news about climate change\n",
    "\n",
    "- 1 Pro: the tweet supports the belief of man-made climate change\n",
    "\n",
    "- 0 Neutral: the tweet neither supports nor refutes the belief of man-made climate change\n",
    "\n",
    "- -1 Anti: the tweet does not believe in man-made climate change Variable definitions\n",
    "\n",
    "#### Features\n",
    "\n",
    "- sentiment: Which class a tweet belongs in (refer to Class Description above)\n",
    "\n",
    "- message: Tweet body\n",
    "\n",
    "- tweetid: Twitter unique id\n"
   ]
  },
  {
   "cell_type": "markdown",
   "id": "95ea4beb",
   "metadata": {},
   "source": [
    "--------\n",
    "\n",
    "## PROJECT INTRODUCTION\n",
    "\n",
    "\n",
    "Sentiment analysis refers to identifying as well as classifying the emotions that are expressed in the text source. Tweets are often useful in generating a vast amount of sentiment data upon analysis. These data are useful in understanding the opinion of the people about a variety of topics.\n",
    "\n",
    "In this project, we try to implement a Twitter sentiment analysis model that helps us know how people generally feel about **Climate Change**. \n",
    "<img src=\"https://miro.medium.com/max/450/1*p3Ste5R_iJzi5IcSmFkmtg.png\">\n",
    "\n",
    "\n",
    "\n",
    "## Project Pipeline\n",
    "\n",
    "The various steps involved in this project are :\n",
    "\n",
    "<a href=#one>1. Import Necessary Dependencies </a>\n",
    "\n",
    "<a href=#two>2. Loading Data </a>\n",
    "\n",
    "<a href=#three>3. Exploratory Data Analysis (EDA)</a>\n",
    "\n",
    "<a href=#four>4. Data Visualization of Target Variables </a>\n",
    "\n",
    "<a href=#five>5. Data Preprocessing </a>\n",
    "\n",
    "<a href=#six>6. Splitting our data into Train and Test Subset </a>\n",
    "\n",
    "<a href=#seven>7. Transforming Dataset using TF-IDF Vectorizer </a>\n",
    "\n",
    "<a href=#eight>8. Model Building </a>\n",
    "\n",
    "<a href=#nine>9. Model Performance</a>\n",
    "\n",
    "<a href=#ten>10. Model Explanations</a>\n",
    "\n",
    "<a href=#eleven>11. Conclusion </a>\n",
    "\n",
    "-------- \n"
   ]
  },
  {
   "cell_type": "markdown",
   "id": "51177793",
   "metadata": {},
   "source": [
    " <a id=\"one\"></a>\n",
    "## 1. Importing Necessary Dependencies\n",
    "<a class=\"anchor\" id=\"1.1\"></a>\n",
    "\n",
    "\n",
    "   \n",
    "| ⚡ Description: Importing Packages ⚡ |\n",
    "| :--------------------------- |\n"
   ]
  },
  {
   "cell_type": "code",
   "execution_count": 1,
   "id": "0428f57c",
   "metadata": {
    "ExecuteTime": {
     "end_time": "2021-06-23T10:30:53.800892Z",
     "start_time": "2021-06-23T10:30:50.215449Z"
    }
   },
   "outputs": [],
   "source": [
    "# Libraries for data loading, data manipulation and data visulisation\n",
    "\n",
    "import pandas as pd\n",
    "import numpy as np\n",
    "import matplotlib.pyplot as plt\n",
    "%matplotlib inline\n",
    "import seaborn as sns\n",
    "sns.set() # plot style\n",
    "\n",
    "# Libraries for Natural Language Processing\n",
    "\n",
    "import nltk\n",
    "from nltk.corpus import stopwords\n",
    "from nltk.tokenize import word_tokenize, TreebankWordTokenizer\n",
    "from nltk import SnowballStemmer, PorterStemmer, LancasterStemmer\n",
    "from nltk.stem import WordNetLemmatizer\n",
    "from nltk.util import ngrams\n",
    "import re\n",
    "import contractions\n",
    "import string\n",
    "\n",
    "# Libraries for data preparation and model building\n",
    "\n",
    "from sklearn.feature_extraction.text import CountVectorizer\n",
    "from sklearn.feature_extraction.text import TfidfVectorizer\n",
    "from sklearn.svm import SVC\n",
    "import xgboost as xgb\n",
    "from sklearn.tree import DecisionTreeClassifier\n",
    "from sklearn.linear_model import LogisticRegression\n",
    "from sklearn.naive_bayes import MultinomialNB\n",
    "from sklearn.model_selection import KFold\n",
    "from sklearn.ensemble import RandomForestClassifier\n",
    "from sklearn.metrics import f1_score\n",
    "from sklearn.metrics import roc_auc_score\n",
    "from sklearn.metrics import recall_score\n",
    "from sklearn.metrics import precision_score\n",
    "from sklearn.metrics import accuracy_score\n",
    "from sklearn.preprocessing import LabelEncoder\n",
    "from sklearn.preprocessing import MinMaxScaler\n",
    "from sklearn.model_selection import train_test_split\n",
    "from sklearn.naive_bayes import GaussianNB\n",
    "from sklearn.metrics import classification_report\n",
    "from sklearn.feature_selection import SelectKBest\n",
    "from sklearn.feature_selection import chi2, f_regression\n",
    "\n",
    "import warnings\n",
    "warnings.filterwarnings('ignore')\n",
    "\n",
    "# Setting global constants to ensure notebook results are reproducible\n",
    "#PARAMETER_CONSTANT = ###"
   ]
  },
  {
   "cell_type": "markdown",
   "id": "566d45d3",
   "metadata": {},
   "source": [
    "<a id=\"two\"></a>\n",
    "## 2. Loading the Data\n",
    "<a class=\"anchor\" id=\"1.1\"></a>\n",
    "<a href=#cont>Back to Table of Contents</a>\n",
    "\n",
    "---\n",
    "    \n",
    "| ⚡ Description: Loading the data ⚡ |\n",
    "| :--------------------------- |\n",
    "| In this section you are required to load the data from the `df_train` file into a DataFrame. |\n",
    "\n",
    "---"
   ]
  },
  {
   "cell_type": "code",
   "execution_count": 2,
   "id": "c9671613",
   "metadata": {
    "ExecuteTime": {
     "end_time": "2021-06-28T08:49:35.311495Z",
     "start_time": "2021-06-28T08:49:35.295494Z"
    }
   },
   "outputs": [],
   "source": [
    "df1 = pd.read_csv('train.csv')\n",
    "df2 = pd.read_csv('test_with_no_labels.csv')"
   ]
  },
  {
   "cell_type": "code",
   "execution_count": 3,
   "id": "80fe68e7",
   "metadata": {},
   "outputs": [],
   "source": [
    "# Create a copy of the dataset\n",
    "df_train = df1.copy()\n",
    "df_test = df2.copy()"
   ]
  },
  {
   "cell_type": "markdown",
   "id": "5d0c8edb",
   "metadata": {},
   "source": [
    "<a id=\"three\"></a>\n",
    "## 3. Exploratory Data Analysis (EDA)\n",
    "<a class=\"anchor\" id=\"1.1\"></a>\n",
    "\n",
    "\n",
    "---\n",
    "    \n",
    "| ⚡ Description: Exploratory data analysis ⚡ |\n",
    "| :--------------------------- |\n",
    "| In this section, you are required to perform an in-depth analysis of all the variables in the DataFrame. |\n"
   ]
  },
  {
   "cell_type": "code",
   "execution_count": 4,
   "id": "1ccdaddc",
   "metadata": {
    "ExecuteTime": {
     "end_time": "2021-06-28T08:52:37.824204Z",
     "start_time": "2021-06-28T08:52:37.811206Z"
    }
   },
   "outputs": [],
   "source": [
    "# look at data statistics"
   ]
  },
  {
   "cell_type": "code",
   "execution_count": 5,
   "id": "31cdcde0",
   "metadata": {},
   "outputs": [
    {
     "data": {
      "text/html": [
       "<div>\n",
       "<style scoped>\n",
       "    .dataframe tbody tr th:only-of-type {\n",
       "        vertical-align: middle;\n",
       "    }\n",
       "\n",
       "    .dataframe tbody tr th {\n",
       "        vertical-align: top;\n",
       "    }\n",
       "\n",
       "    .dataframe thead th {\n",
       "        text-align: right;\n",
       "    }\n",
       "</style>\n",
       "<table border=\"1\" class=\"dataframe\">\n",
       "  <thead>\n",
       "    <tr style=\"text-align: right;\">\n",
       "      <th></th>\n",
       "      <th>sentiment</th>\n",
       "      <th>message</th>\n",
       "      <th>tweetid</th>\n",
       "    </tr>\n",
       "  </thead>\n",
       "  <tbody>\n",
       "    <tr>\n",
       "      <th>0</th>\n",
       "      <td>1</td>\n",
       "      <td>PolySciMajor EPA chief doesn't think carbon di...</td>\n",
       "      <td>625221</td>\n",
       "    </tr>\n",
       "    <tr>\n",
       "      <th>1</th>\n",
       "      <td>1</td>\n",
       "      <td>It's not like we lack evidence of anthropogeni...</td>\n",
       "      <td>126103</td>\n",
       "    </tr>\n",
       "    <tr>\n",
       "      <th>2</th>\n",
       "      <td>2</td>\n",
       "      <td>RT @RawStory: Researchers say we have three ye...</td>\n",
       "      <td>698562</td>\n",
       "    </tr>\n",
       "    <tr>\n",
       "      <th>3</th>\n",
       "      <td>1</td>\n",
       "      <td>#TodayinMaker# WIRED : 2016 was a pivotal year...</td>\n",
       "      <td>573736</td>\n",
       "    </tr>\n",
       "    <tr>\n",
       "      <th>4</th>\n",
       "      <td>1</td>\n",
       "      <td>RT @SoyNovioDeTodas: It's 2016, and a racist, ...</td>\n",
       "      <td>466954</td>\n",
       "    </tr>\n",
       "  </tbody>\n",
       "</table>\n",
       "</div>"
      ],
      "text/plain": [
       "   sentiment                                            message  tweetid\n",
       "0          1  PolySciMajor EPA chief doesn't think carbon di...   625221\n",
       "1          1  It's not like we lack evidence of anthropogeni...   126103\n",
       "2          2  RT @RawStory: Researchers say we have three ye...   698562\n",
       "3          1  #TodayinMaker# WIRED : 2016 was a pivotal year...   573736\n",
       "4          1  RT @SoyNovioDeTodas: It's 2016, and a racist, ...   466954"
      ]
     },
     "execution_count": 5,
     "metadata": {},
     "output_type": "execute_result"
    }
   ],
   "source": [
    "df_train.head()"
   ]
  },
  {
   "cell_type": "code",
   "execution_count": 6,
   "id": "2d49557d",
   "metadata": {},
   "outputs": [
    {
     "data": {
      "text/html": [
       "<div>\n",
       "<style scoped>\n",
       "    .dataframe tbody tr th:only-of-type {\n",
       "        vertical-align: middle;\n",
       "    }\n",
       "\n",
       "    .dataframe tbody tr th {\n",
       "        vertical-align: top;\n",
       "    }\n",
       "\n",
       "    .dataframe thead th {\n",
       "        text-align: right;\n",
       "    }\n",
       "</style>\n",
       "<table border=\"1\" class=\"dataframe\">\n",
       "  <thead>\n",
       "    <tr style=\"text-align: right;\">\n",
       "      <th></th>\n",
       "      <th>message</th>\n",
       "      <th>tweetid</th>\n",
       "    </tr>\n",
       "  </thead>\n",
       "  <tbody>\n",
       "    <tr>\n",
       "      <th>0</th>\n",
       "      <td>Europe will now be looking to China to make su...</td>\n",
       "      <td>169760</td>\n",
       "    </tr>\n",
       "    <tr>\n",
       "      <th>1</th>\n",
       "      <td>Combine this with the polling of staffers re c...</td>\n",
       "      <td>35326</td>\n",
       "    </tr>\n",
       "    <tr>\n",
       "      <th>2</th>\n",
       "      <td>The scary, unimpeachable evidence that climate...</td>\n",
       "      <td>224985</td>\n",
       "    </tr>\n",
       "    <tr>\n",
       "      <th>3</th>\n",
       "      <td>@Karoli @morgfair @OsborneInk @dailykos \\nPuti...</td>\n",
       "      <td>476263</td>\n",
       "    </tr>\n",
       "    <tr>\n",
       "      <th>4</th>\n",
       "      <td>RT @FakeWillMoore: 'Female orgasms cause globa...</td>\n",
       "      <td>872928</td>\n",
       "    </tr>\n",
       "  </tbody>\n",
       "</table>\n",
       "</div>"
      ],
      "text/plain": [
       "                                             message  tweetid\n",
       "0  Europe will now be looking to China to make su...   169760\n",
       "1  Combine this with the polling of staffers re c...    35326\n",
       "2  The scary, unimpeachable evidence that climate...   224985\n",
       "3  @Karoli @morgfair @OsborneInk @dailykos \\nPuti...   476263\n",
       "4  RT @FakeWillMoore: 'Female orgasms cause globa...   872928"
      ]
     },
     "execution_count": 6,
     "metadata": {},
     "output_type": "execute_result"
    }
   ],
   "source": [
    "df_test.head()"
   ]
  },
  {
   "cell_type": "markdown",
   "id": "3a6bc731",
   "metadata": {},
   "source": [
    "**Observations**\n",
    "\n",
    "---\n",
    "\n",
    "There are 3 features namely;\n",
    "\n",
    "* Sentiment: which captures the emotion of a twitter user towards climate change\n",
    "* Message: which contains the tweet message\n",
    "* TweetId: which uniquely identifies each tweet\n",
    "\n",
    "There are _special characters and punctuations_ in the dataset. Also, some of words begin with _uppercase letters_, while others begin with _lower case letters_. The objectives will be to remove these special characters and words that would otherwise consume computational resources as well as converting all our words to lowercase letters in the **Data Preprocessing section**\n",
    "\n",
    "---"
   ]
  },
  {
   "cell_type": "code",
   "execution_count": 7,
   "id": "2b03aed8",
   "metadata": {},
   "outputs": [
    {
     "name": "stdout",
     "output_type": "stream",
     "text": [
      "<class 'pandas.core.frame.DataFrame'>\n",
      "RangeIndex: 15819 entries, 0 to 15818\n",
      "Data columns (total 3 columns):\n",
      " #   Column     Non-Null Count  Dtype \n",
      "---  ------     --------------  ----- \n",
      " 0   sentiment  15819 non-null  int64 \n",
      " 1   message    15819 non-null  object\n",
      " 2   tweetid    15819 non-null  int64 \n",
      "dtypes: int64(2), object(1)\n",
      "memory usage: 370.9+ KB\n"
     ]
    }
   ],
   "source": [
    "df_train.info()"
   ]
  },
  {
   "cell_type": "code",
   "execution_count": 8,
   "id": "5367c498",
   "metadata": {},
   "outputs": [
    {
     "name": "stdout",
     "output_type": "stream",
     "text": [
      "<class 'pandas.core.frame.DataFrame'>\n",
      "RangeIndex: 10546 entries, 0 to 10545\n",
      "Data columns (total 2 columns):\n",
      " #   Column   Non-Null Count  Dtype \n",
      "---  ------   --------------  ----- \n",
      " 0   message  10546 non-null  object\n",
      " 1   tweetid  10546 non-null  int64 \n",
      "dtypes: int64(1), object(1)\n",
      "memory usage: 164.9+ KB\n"
     ]
    }
   ],
   "source": [
    "df_test.info()"
   ]
  },
  {
   "cell_type": "code",
   "execution_count": 9,
   "id": "b0361d7f",
   "metadata": {},
   "outputs": [
    {
     "data": {
      "text/plain": [
       "(15819, 3)"
      ]
     },
     "execution_count": 9,
     "metadata": {},
     "output_type": "execute_result"
    }
   ],
   "source": [
    "df_train.shape"
   ]
  },
  {
   "cell_type": "code",
   "execution_count": 10,
   "id": "8033020f",
   "metadata": {},
   "outputs": [
    {
     "data": {
      "text/plain": [
       "(15819, 3)"
      ]
     },
     "execution_count": 10,
     "metadata": {},
     "output_type": "execute_result"
    }
   ],
   "source": [
    "df_train.shape"
   ]
  },
  {
   "cell_type": "code",
   "execution_count": 11,
   "id": "7418ddaf",
   "metadata": {},
   "outputs": [
    {
     "data": {
      "text/plain": [
       "(10546, 2)"
      ]
     },
     "execution_count": 11,
     "metadata": {},
     "output_type": "execute_result"
    }
   ],
   "source": [
    "df_test.shape"
   ]
  },
  {
   "cell_type": "code",
   "execution_count": 12,
   "id": "86724831",
   "metadata": {},
   "outputs": [
    {
     "data": {
      "text/plain": [
       " 1    8530\n",
       " 2    3640\n",
       " 0    2353\n",
       "-1    1296\n",
       "Name: sentiment, dtype: int64"
      ]
     },
     "execution_count": 12,
     "metadata": {},
     "output_type": "execute_result"
    }
   ],
   "source": [
    "df_train['sentiment'].value_counts()"
   ]
  },
  {
   "cell_type": "code",
   "execution_count": 13,
   "id": "50db0e0e",
   "metadata": {},
   "outputs": [
    {
     "data": {
      "image/png": "[encoded data removed]",
      "text/plain": [
       "<Figure size 432x288 with 1 Axes>"
      ]
     },
     "metadata": {},
     "output_type": "display_data"
    }
   ],
   "source": [
    "df_train['sentiment'].value_counts().plot(kind = 'bar')\n",
    "plt.show()"
   ]
  },
  {
   "cell_type": "code",
   "execution_count": null,
   "id": "52f2044f",
   "metadata": {},
   "outputs": [],
   "source": []
  },
  {
   "cell_type": "code",
   "execution_count": 14,
   "id": "fd72a1ca",
   "metadata": {},
   "outputs": [],
   "source": [
    "# plot relevant feature interactions"
   ]
  },
  {
   "cell_type": "code",
   "execution_count": 15,
   "id": "e152699f",
   "metadata": {},
   "outputs": [],
   "source": [
    "# evaluate correlation"
   ]
  },
  {
   "cell_type": "code",
   "execution_count": 16,
   "id": "56b1acd3",
   "metadata": {},
   "outputs": [],
   "source": [
    "# have a look at feature distributions"
   ]
  },
  {
   "cell_type": "markdown",
   "id": "5cfdd4e0",
   "metadata": {},
   "source": [
    "<a id=\"four\"></a>\n",
    "## 4. Data Engineering\n",
    "<a class=\"anchor\" id=\"1.1\"></a>\n",
    "<a href=#cont>Back to Table of Contents</a>\n",
    "\n",
    "---\n",
    "    \n",
    "| ⚡ Description: Data engineering ⚡ |\n",
    "| :--------------------------- |\n",
    "| In this section you are required to: clean the dataset, and possibly create new features - as identified in the EDA phase. |\n",
    "\n",
    "---"
   ]
  },
  {
   "cell_type": "code",
   "execution_count": 17,
   "id": "b37b5383",
   "metadata": {},
   "outputs": [],
   "source": [
    "# remove missing values/ features"
   ]
  },
  {
   "cell_type": "code",
   "execution_count": 18,
   "id": "af55667c",
   "metadata": {},
   "outputs": [],
   "source": [
    "# create new features"
   ]
  },
  {
   "cell_type": "code",
   "execution_count": 19,
   "id": "dd1b773f",
   "metadata": {},
   "outputs": [],
   "source": [
    "def clean_column(column):\n",
    "    column = column.str.lower()\n",
    "    column = column.str.encode('ascii', 'ignore').str.decode(\"utf-8\")\n",
    "    column = column.str.replace(r'https*\\S+', 'url  ', regex=True)\n",
    "    column = column.str.replace(r'@\\S+', ' ', regex=True)\n",
    "    column = column.str.replace(r'#\\S+', ' ', regex=True)\n",
    "    #column = column.str.replace(r'\\'\\w+', ' ', regex=True)\n",
    "    #column = column.str.replace(r'.*rt .{2}', ' ', regex=True)\n",
    "    column = column.str.replace('[%s]' % re.escape(string.punctuation), ' ', regex=True)\n",
    "    column = column.str.replace(r'\\w*\\d+\\w*', ' ', regex=True)\n",
    "    column = column.str.replace(r'\\s{2,}', ' ', regex=True)\n",
    "    return column"
   ]
  },
  {
   "cell_type": "code",
   "execution_count": 20,
   "id": "cbe4ea77",
   "metadata": {},
   "outputs": [],
   "source": [
    "stemmer = PorterStemmer()\n",
    "tokeniser = TreebankWordTokenizer()\n",
    "stop_words = stopwords.words(\"english\")\n",
    "wordnet = WordNetLemmatizer()\n",
    "def msg_preproc(x):\n",
    "    #x = ' '.join([contractions.fix(word) for word in x.split()])\n",
    "    x = x.lower()\n",
    "    #x = ' '.join([word for word in x.split(' ') if word not in stop_words])\n",
    "    #x = re.sub(r'https*\\S+', 'url', x)\n",
    "    #x = \" \".join([stemmer.stem(word) for word in x.split()])\n",
    "    #x = ' '.join(wordnet.lemmatize(word, 'v') for word in x.split())\n",
    "    x = re.sub(' +', ' ', x)\n",
    "    return x"
   ]
  },
  {
   "cell_type": "code",
   "execution_count": 21,
   "id": "e1a5ef79",
   "metadata": {},
   "outputs": [],
   "source": [
    "# engineer existing features"
   ]
  },
  {
   "cell_type": "code",
   "execution_count": 22,
   "id": "22a0f798",
   "metadata": {},
   "outputs": [],
   "source": [
    "df_train['message'] = clean_column(df_train['message'])"
   ]
  },
  {
   "cell_type": "code",
   "execution_count": 23,
   "id": "4cbbdc05",
   "metadata": {},
   "outputs": [],
   "source": [
    "df_test['message'] = clean_column(df_test['message'])"
   ]
  },
  {
   "cell_type": "code",
   "execution_count": 24,
   "id": "d461ea2e",
   "metadata": {},
   "outputs": [],
   "source": [
    "df_train['clean_message'] = df_train.message.apply(msg_preproc)"
   ]
  },
  {
   "cell_type": "code",
   "execution_count": 25,
   "id": "c214a764",
   "metadata": {},
   "outputs": [],
   "source": [
    "df_test['clean_message'] = df_test.message.apply(msg_preproc)"
   ]
  },
  {
   "cell_type": "code",
   "execution_count": 70,
   "id": "7faf5277",
   "metadata": {},
   "outputs": [
    {
     "data": {
      "text/html": [
       "<div>\n",
       "<style scoped>\n",
       "    .dataframe tbody tr th:only-of-type {\n",
       "        vertical-align: middle;\n",
       "    }\n",
       "\n",
       "    .dataframe tbody tr th {\n",
       "        vertical-align: top;\n",
       "    }\n",
       "\n",
       "    .dataframe thead th {\n",
       "        text-align: right;\n",
       "    }\n",
       "</style>\n",
       "<table border=\"1\" class=\"dataframe\">\n",
       "  <thead>\n",
       "    <tr style=\"text-align: right;\">\n",
       "      <th></th>\n",
       "      <th>sentiment</th>\n",
       "      <th>message</th>\n",
       "      <th>tweetid</th>\n",
       "      <th>clean_message</th>\n",
       "    </tr>\n",
       "  </thead>\n",
       "  <tbody>\n",
       "    <tr>\n",
       "      <th>0</th>\n",
       "      <td>1</td>\n",
       "      <td>polyscimajor epa chief doesn t think carbon di...</td>\n",
       "      <td>625221</td>\n",
       "      <td>polyscimajor epa chief doesn t think carbon di...</td>\n",
       "    </tr>\n",
       "    <tr>\n",
       "      <th>1</th>\n",
       "      <td>1</td>\n",
       "      <td>it s not like we lack evidence of anthropogeni...</td>\n",
       "      <td>126103</td>\n",
       "      <td>it s not like we lack evidence of anthropogeni...</td>\n",
       "    </tr>\n",
       "    <tr>\n",
       "      <th>2</th>\n",
       "      <td>2</td>\n",
       "      <td>rt researchers say we have three years to act ...</td>\n",
       "      <td>698562</td>\n",
       "      <td>rt researchers say we have three years to act ...</td>\n",
       "    </tr>\n",
       "    <tr>\n",
       "      <th>3</th>\n",
       "      <td>1</td>\n",
       "      <td>wired was a pivotal year in the war on climat...</td>\n",
       "      <td>573736</td>\n",
       "      <td>wired was a pivotal year in the war on climat...</td>\n",
       "    </tr>\n",
       "    <tr>\n",
       "      <th>4</th>\n",
       "      <td>1</td>\n",
       "      <td>rt it s and a racist sexist climate change den...</td>\n",
       "      <td>466954</td>\n",
       "      <td>rt it s and a racist sexist climate change den...</td>\n",
       "    </tr>\n",
       "  </tbody>\n",
       "</table>\n",
       "</div>"
      ],
      "text/plain": [
       "   sentiment                                            message  tweetid  \\\n",
       "0          1  polyscimajor epa chief doesn t think carbon di...   625221   \n",
       "1          1  it s not like we lack evidence of anthropogeni...   126103   \n",
       "2          2  rt researchers say we have three years to act ...   698562   \n",
       "3          1   wired was a pivotal year in the war on climat...   573736   \n",
       "4          1  rt it s and a racist sexist climate change den...   466954   \n",
       "\n",
       "                                       clean_message  \n",
       "0  polyscimajor epa chief doesn t think carbon di...  \n",
       "1  it s not like we lack evidence of anthropogeni...  \n",
       "2  rt researchers say we have three years to act ...  \n",
       "3   wired was a pivotal year in the war on climat...  \n",
       "4  rt it s and a racist sexist climate change den...  "
      ]
     },
     "execution_count": 70,
     "metadata": {},
     "output_type": "execute_result"
    }
   ],
   "source": [
    "df_train.head()"
   ]
  },
  {
   "cell_type": "raw",
   "id": "8d296848",
   "metadata": {},
   "source": []
  },
  {
   "cell_type": "code",
   "execution_count": 26,
   "id": "39337139",
   "metadata": {},
   "outputs": [],
   "source": [
    "# Creating new features"
   ]
  },
  {
   "cell_type": "markdown",
   "id": "cf269f7e",
   "metadata": {},
   "source": [
    "### TF-IDF weighting "
   ]
  },
  {
   "cell_type": "code",
   "execution_count": 81,
   "id": "9d8f3780",
   "metadata": {},
   "outputs": [
    {
     "ename": "NameError",
     "evalue": "name 'bestParameters' is not defined",
     "output_type": "error",
     "traceback": [
      "\u001b[1;31m---------------------------------------------------------------------------\u001b[0m",
      "\u001b[1;31mNameError\u001b[0m                                 Traceback (most recent call last)",
      "Input \u001b[1;32mIn [81]\u001b[0m, in \u001b[0;36m<cell line: 1>\u001b[1;34m()\u001b[0m\n\u001b[0;32m      1\u001b[0m vectorizer \u001b[38;5;241m=\u001b[39m TfidfVectorizer(stop_words\u001b[38;5;241m=\u001b[39m\u001b[38;5;124m'\u001b[39m\u001b[38;5;124menglish\u001b[39m\u001b[38;5;124m'\u001b[39m,\n\u001b[0;32m      2\u001b[0m                              sublinear_tf\u001b[38;5;241m=\u001b[39m\u001b[38;5;28;01mTrue\u001b[39;00m,\n\u001b[1;32m----> 3\u001b[0m                              use_idf\u001b[38;5;241m=\u001b[39m\u001b[43mbestParameters\u001b[49m[\u001b[38;5;124m'\u001b[39m\u001b[38;5;124mvect__use_idf\u001b[39m\u001b[38;5;124m'\u001b[39m],\n\u001b[0;32m      4\u001b[0m                              max_df\u001b[38;5;241m=\u001b[39mbestParameters[\u001b[38;5;124m'\u001b[39m\u001b[38;5;124mvect__max_df\u001b[39m\u001b[38;5;124m'\u001b[39m],\n\u001b[0;32m      5\u001b[0m                              ngram_range\u001b[38;5;241m=\u001b[39mbestParameters[\u001b[38;5;124m'\u001b[39m\u001b[38;5;124mvect__ngram_range\u001b[39m\u001b[38;5;124m'\u001b[39m])\n\u001b[0;32m      6\u001b[0m vectorizer\u001b[38;5;241m.\u001b[39mget_params()\n",
      "\u001b[1;31mNameError\u001b[0m: name 'bestParameters' is not defined"
     ]
    }
   ],
   "source": [
    "vectorizer = TfidfVectorizer(binary=True)\n",
    "vectorizer.get_params()"
   ]
  },
  {
   "cell_type": "code",
   "execution_count": 75,
   "id": "baf827eb",
   "metadata": {},
   "outputs": [
    {
     "name": "stdout",
     "output_type": "stream",
     "text": [
      "(15819, 14233)\n",
      "(10546, 14233)\n"
     ]
    }
   ],
   "source": [
    "X = vectorizer.fit_transform(df_train['clean_message']).toarray()\n",
    "df_new = pd.DataFrame(X, columns=vectorizer.get_feature_names())\n",
    "print(df_new.shape)\n",
    "\n",
    "X_tests = vectorizer.transform(df_test['clean_message']).toarray()\n",
    "test_new = pd.DataFrame(X_tests, columns=vectorizer.get_feature_names())\n",
    "print(test_new.shape)"
   ]
  },
  {
   "cell_type": "code",
   "execution_count": 76,
   "id": "101dea72",
   "metadata": {},
   "outputs": [],
   "source": [
    "X = df_new.values\n",
    "y = df_train.sentiment.values"
   ]
  },
  {
   "cell_type": "code",
   "execution_count": null,
   "id": "e9e4767e",
   "metadata": {},
   "outputs": [],
   "source": [
    "top_features = SelectKBest(score_func=chi2, k=10)\n",
    "fit = top_features.fit(X,y)\n",
    "dfscores = pd.DataFrame(fit.scores_)\n",
    "dfcolumns = pd.DataFrame(X, columns=vectorizer.get_feature_names())\n",
    "featureScores = pd.concat([dfcolumns, dfscores], axis=1)\n",
    "featureScores.rename(columns = {0:'Score'}, inplace = True)\n",
    "#featureScores.columns = ['Features', 'Score']\n",
    "new_X = featureScores.sort_values('Score',ascending=False)\n",
    "new_X.head(100) #To get the least important feature based on their scores\n",
    "#new_d = new_X.dropna()"
   ]
  },
  {
   "cell_type": "code",
   "execution_count": null,
   "id": "2d024ccf",
   "metadata": {},
   "outputs": [],
   "source": [
    "new_d.shape"
   ]
  },
  {
   "cell_type": "markdown",
   "id": "dfff836c",
   "metadata": {},
   "source": [
    "<a id=\"five\"></a>\n",
    "## 5. Modelling\n",
    "<a class=\"anchor\" id=\"1.1\"></a>\n",
    "<a href=#cont>Back to Table of Contents</a>\n",
    "\n",
    "---\n",
    "    \n",
    "| ⚡ Description: Modelling ⚡ |\n",
    "| :--------------------------- |\n",
    "| In this section, you are required to create one or more regression models that are able to accurately predict the thee hour load shortfall. |\n",
    "\n",
    "---"
   ]
  },
  {
   "cell_type": "code",
   "execution_count": null,
   "id": "df84a987",
   "metadata": {},
   "outputs": [],
   "source": [
    "# split data"
   ]
  },
  {
   "cell_type": "code",
   "execution_count": 77,
   "id": "ae2cb802",
   "metadata": {},
   "outputs": [],
   "source": [
    "X_train, X_test, y_train, y_test = train_test_split(X, y, test_size=0.2, random_state=42)"
   ]
  },
  {
   "cell_type": "code",
   "execution_count": 78,
   "id": "ee89deb6",
   "metadata": {},
   "outputs": [
    {
     "name": "stdout",
     "output_type": "stream",
     "text": [
      "0.2672612419124244\n",
      "0.7327387580875756\n"
     ]
    }
   ],
   "source": [
    "columns = 14\n",
    "test = 1/np.sqrt(columns)\n",
    "train = 1 - test\n",
    "print(test)\n",
    "print(train)\n",
    "#Scaling Law Split\n",
    "A_train, A_test, b_train, b_test = train_test_split(X, y, test_size= test, random_state= 123)"
   ]
  },
  {
   "cell_type": "code",
   "execution_count": 79,
   "id": "05ebf9b4",
   "metadata": {},
   "outputs": [
    {
     "name": "stdout",
     "output_type": "stream",
     "text": [
      "0.7194891201513718\n"
     ]
    }
   ],
   "source": [
    "bn2 = LogisticRegression()\n",
    "bn2.fit(A_train, b_train)\n",
    "sl_preds = bn2.predict(A_test)\n",
    "print(f1_score(b_test, sl_preds,\n",
    "                           pos_label='positive',\n",
    "                           average='micro'))"
   ]
  },
  {
   "cell_type": "code",
   "execution_count": null,
   "id": "40d01866",
   "metadata": {},
   "outputs": [],
   "source": [
    "# create targets and features dataset"
   ]
  },
  {
   "cell_type": "code",
   "execution_count": null,
   "id": "32b7d16a",
   "metadata": {},
   "outputs": [],
   "source": [
    "# create one or more ML models"
   ]
  },
  {
   "cell_type": "markdown",
   "id": "cf78f2af",
   "metadata": {},
   "source": [
    "### Naive Bayes"
   ]
  },
  {
   "cell_type": "code",
   "execution_count": 43,
   "id": "d8e59bda",
   "metadata": {},
   "outputs": [],
   "source": [
    "nbs = MultinomialNB()"
   ]
  },
  {
   "cell_type": "code",
   "execution_count": 44,
   "id": "4883e2a9",
   "metadata": {},
   "outputs": [
    {
     "data": {
      "text/plain": [
       "{'alpha': 1.0, 'class_prior': None, 'fit_prior': True}"
      ]
     },
     "execution_count": 44,
     "metadata": {},
     "output_type": "execute_result"
    }
   ],
   "source": [
    "nbs.get_params()"
   ]
  },
  {
   "cell_type": "code",
   "execution_count": 45,
   "id": "790a3813",
   "metadata": {},
   "outputs": [
    {
     "name": "stdout",
     "output_type": "stream",
     "text": [
      "0.6403286978508217\n"
     ]
    }
   ],
   "source": [
    "nbs.fit(X_train, y_train)\n",
    "nbs_predt = nbs.predict(X_test)\n",
    "print(f1_score(y_test, nbs_predt,\n",
    "                           pos_label='positive',\n",
    "                           average='micro'))"
   ]
  },
  {
   "cell_type": "code",
   "execution_count": null,
   "id": "77fd0eb0",
   "metadata": {},
   "outputs": [],
   "source": [
    "nbs.fit(X,y)\n",
    "nbs_test = test_new.values\n",
    "nbs_pred = nbs.predict(nbs_test)"
   ]
  },
  {
   "cell_type": "code",
   "execution_count": null,
   "id": "0e65ab04",
   "metadata": {},
   "outputs": [],
   "source": [
    "# Preparing submission\n",
    "submission_nbs = pd.DataFrame()\n",
    "submission_nbs['tweetid'] = df_test['tweetid']\n",
    "submission_nbs['sentiment'] = nbs_pred\n",
    "submission_nbs.to_csv('sub_nbs.csv', index=False)\n",
    "\n",
    "# Validate\n",
    "submission_nbs = pd.read_csv('sub_nbs.csv')"
   ]
  },
  {
   "cell_type": "markdown",
   "id": "ee3bd333",
   "metadata": {},
   "source": [
    "### Logistic Regression"
   ]
  },
  {
   "cell_type": "code",
   "execution_count": 46,
   "id": "3f6dde0f",
   "metadata": {},
   "outputs": [],
   "source": [
    "lr = LogisticRegression()"
   ]
  },
  {
   "cell_type": "code",
   "execution_count": 47,
   "id": "917d06b5",
   "metadata": {},
   "outputs": [
    {
     "data": {
      "text/plain": [
       "{'C': 1.0,\n",
       " 'class_weight': None,\n",
       " 'dual': False,\n",
       " 'fit_intercept': True,\n",
       " 'intercept_scaling': 1,\n",
       " 'l1_ratio': None,\n",
       " 'max_iter': 100,\n",
       " 'multi_class': 'auto',\n",
       " 'n_jobs': None,\n",
       " 'penalty': 'l2',\n",
       " 'random_state': None,\n",
       " 'solver': 'lbfgs',\n",
       " 'tol': 0.0001,\n",
       " 'verbose': 0,\n",
       " 'warm_start': False}"
      ]
     },
     "execution_count": 47,
     "metadata": {},
     "output_type": "execute_result"
    }
   ],
   "source": [
    "lr.get_params()"
   ]
  },
  {
   "cell_type": "code",
   "execution_count": 80,
   "id": "d35c2e36",
   "metadata": {},
   "outputs": [
    {
     "name": "stdout",
     "output_type": "stream",
     "text": [
      "0.7373577749683944\n"
     ]
    }
   ],
   "source": [
    "lr.fit(X_train, y_train)\n",
    "lr_predt = lr.predict(X_test)\n",
    "print(f1_score(y_test, lr_predt,\n",
    "                           pos_label='positive',\n",
    "                           average='micro'))"
   ]
  },
  {
   "cell_type": "code",
   "execution_count": null,
   "id": "39b67366",
   "metadata": {},
   "outputs": [],
   "source": [
    "lr.fit(X,y)\n",
    "lr_test = test_new.values\n",
    "lr_pred = lr.predict(lr_test)"
   ]
  },
  {
   "cell_type": "code",
   "execution_count": null,
   "id": "6cac3c00",
   "metadata": {},
   "outputs": [],
   "source": [
    "# Preparing submission\n",
    "submission_lr = pd.DataFrame()\n",
    "submission_lr['tweetid'] = df_test['tweetid']\n",
    "submission_lr['sentiment'] = lr_pred\n",
    "submission_lr.to_csv('sub_lr.csv', index=False)\n",
    "\n",
    "# Validate\n",
    "submission_lr = pd.read_csv('sub_lr.csv')"
   ]
  },
  {
   "cell_type": "markdown",
   "id": "f4f361d1",
   "metadata": {},
   "source": [
    "### Decision Tree Classifier"
   ]
  },
  {
   "cell_type": "code",
   "execution_count": 49,
   "id": "bb622728",
   "metadata": {},
   "outputs": [],
   "source": [
    "dtc = DecisionTreeClassifier()"
   ]
  },
  {
   "cell_type": "code",
   "execution_count": 50,
   "id": "3a32f216",
   "metadata": {},
   "outputs": [
    {
     "data": {
      "text/plain": [
       "{'ccp_alpha': 0.0,\n",
       " 'class_weight': None,\n",
       " 'criterion': 'gini',\n",
       " 'max_depth': None,\n",
       " 'max_features': None,\n",
       " 'max_leaf_nodes': None,\n",
       " 'min_impurity_decrease': 0.0,\n",
       " 'min_samples_leaf': 1,\n",
       " 'min_samples_split': 2,\n",
       " 'min_weight_fraction_leaf': 0.0,\n",
       " 'random_state': None,\n",
       " 'splitter': 'best'}"
      ]
     },
     "execution_count": 50,
     "metadata": {},
     "output_type": "execute_result"
    }
   ],
   "source": [
    "dtc.get_params()"
   ]
  },
  {
   "cell_type": "code",
   "execution_count": 51,
   "id": "35c639b7",
   "metadata": {},
   "outputs": [
    {
     "name": "stdout",
     "output_type": "stream",
     "text": [
      "0.6248419721871049\n"
     ]
    }
   ],
   "source": [
    "dtc.fit(X_train, y_train)\n",
    "dtc_predt = dtc.predict(X_test)\n",
    "print(f1_score(y_test, dtc_predt,\n",
    "                           pos_label='positive',\n",
    "                           average='micro'))"
   ]
  },
  {
   "cell_type": "code",
   "execution_count": null,
   "id": "42443455",
   "metadata": {},
   "outputs": [],
   "source": [
    "dtc.fit(X,y)\n",
    "dtc_test = test_new.values\n",
    "dtc_pred = dtc.predict(dtc_test)"
   ]
  },
  {
   "cell_type": "code",
   "execution_count": null,
   "id": "66a55f1f",
   "metadata": {},
   "outputs": [],
   "source": [
    "# Preparing submission\n",
    "submission_dtc = pd.DataFrame()\n",
    "submission_dtc['tweetid'] = df_test['tweetid']\n",
    "submission_dtc['sentiment'] = dtc_pred\n",
    "submission_dtc.to_csv('sub_dtc.csv', index=False)\n",
    "\n",
    "# Validate\n",
    "submission_dtc = pd.read_csv('sub_dtc.csv')"
   ]
  },
  {
   "cell_type": "markdown",
   "id": "9812ba9a",
   "metadata": {},
   "source": [
    "### Random Forest Classifier"
   ]
  },
  {
   "cell_type": "code",
   "execution_count": null,
   "id": "80f57209",
   "metadata": {},
   "outputs": [],
   "source": [
    "rfc = RandomForestClassifier(n_jobs=-1, max_features='log2', oob_score = True)"
   ]
  },
  {
   "cell_type": "code",
   "execution_count": null,
   "id": "dd1d3d28",
   "metadata": {},
   "outputs": [],
   "source": [
    "rfc.get_params()"
   ]
  },
  {
   "cell_type": "code",
   "execution_count": null,
   "id": "5521ea3c",
   "metadata": {},
   "outputs": [],
   "source": [
    "rfc.fit(X_train, y_train)\n",
    "rfc_predt = rfc.predict(X_test)\n",
    "print(f1_score(y_test, rfc_predt,\n",
    "                           pos_label='positive',\n",
    "                           average='micro'))"
   ]
  },
  {
   "cell_type": "code",
   "execution_count": null,
   "id": "d57b2a80",
   "metadata": {},
   "outputs": [],
   "source": [
    "rfc.fit(X,y)\n",
    "rfc_test = test_new.values\n",
    "rfc_pred = rfc.predict(rfc_test)"
   ]
  },
  {
   "cell_type": "code",
   "execution_count": null,
   "id": "65020227",
   "metadata": {},
   "outputs": [],
   "source": [
    "# Preparing submission\n",
    "submission_rfc = pd.DataFrame()\n",
    "submission_rfc['tweetid'] = df_test['tweetid']\n",
    "submission_rfc['sentiment'] = rfc_pred\n",
    "submission_rfc.to_csv('sub_rfc.csv', index=False)\n",
    "\n",
    "# Validate\n",
    "submission = pd.read_csv('sub_rfc.csv')"
   ]
  },
  {
   "cell_type": "code",
   "execution_count": null,
   "id": "81a56cab",
   "metadata": {},
   "outputs": [],
   "source": [
    "# evaluate one or more ML models"
   ]
  },
  {
   "cell_type": "code",
   "execution_count": null,
   "id": "a5696d15",
   "metadata": {},
   "outputs": [],
   "source": [
    "print(classification_report(y_test, nbs_predt))"
   ]
  },
  {
   "cell_type": "code",
   "execution_count": null,
   "id": "6021ddf2",
   "metadata": {},
   "outputs": [],
   "source": [
    "print(classification_report(y_test, lr_predt))"
   ]
  },
  {
   "cell_type": "code",
   "execution_count": null,
   "id": "bdb05a4a",
   "metadata": {},
   "outputs": [],
   "source": [
    "print(classification_report(y_test, dtc_predt))"
   ]
  },
  {
   "cell_type": "code",
   "execution_count": null,
   "id": "73d866aa",
   "metadata": {},
   "outputs": [],
   "source": [
    "print(classification_report(y_test, rfc_predt))"
   ]
  },
  {
   "cell_type": "code",
   "execution_count": null,
   "id": "a1addcad",
   "metadata": {},
   "outputs": [],
   "source": []
  },
  {
   "cell_type": "markdown",
   "id": "8c9e36a5",
   "metadata": {},
   "source": [
    "<a id=\"six\"></a>\n",
    "## 6. Model Performance\n",
    "<a class=\"anchor\" id=\"1.1\"></a>\n",
    "<a href=#cont>Back to Table of Contents</a>\n",
    "\n",
    "---\n",
    "    \n",
    "| ⚡ Description: Model performance ⚡ |\n",
    "| :--------------------------- |\n",
    "| In this section you are required to compare the relative performance of the various trained ML models on a holdout dataset and comment on what model is the best and why. |\n",
    "\n",
    "---"
   ]
  },
  {
   "cell_type": "code",
   "execution_count": null,
   "id": "433bc79a",
   "metadata": {},
   "outputs": [],
   "source": [
    "# Compare model performance"
   ]
  },
  {
   "cell_type": "code",
   "execution_count": null,
   "id": "9cd5b178",
   "metadata": {},
   "outputs": [],
   "source": [
    "# Choose best model and motivate why it is the best choice"
   ]
  },
  {
   "cell_type": "markdown",
   "id": "5e02fbbc",
   "metadata": {},
   "source": [
    "<a id=\"seven\"></a>\n",
    "## 7. Model Explanations\n",
    "<a class=\"anchor\" id=\"1.1\"></a>\n",
    "<a href=#cont>Back to Table of Contents</a>\n",
    "\n",
    "---\n",
    "    \n",
    "| ⚡ Description: Model explanation ⚡ |\n",
    "| :--------------------------- |\n",
    "| In this section, you are required to discuss how the best performing model works in a simple way so that both technical and non-technical stakeholders can grasp the intuition behind the model's inner workings. |\n",
    "\n",
    "---"
   ]
  },
  {
   "cell_type": "code",
   "execution_count": null,
   "id": "34fd239b",
   "metadata": {},
   "outputs": [],
   "source": [
    "# discuss chosen methods logic"
   ]
  }
 ],
 "metadata": {
  "kernelspec": {
   "display_name": "Python 3 (ipykernel)",
   "language": "python",
   "name": "python3"
  },
  "language_info": {
   "codemirror_mode": {
    "name": "ipython",
    "version": 3
   },
   "file_extension": ".py",
   "mimetype": "text/x-python",
   "name": "python",
   "nbconvert_exporter": "python",
   "pygments_lexer": "ipython3",
   "version": "3.9.12"
  },
  "latex_envs": {
   "LaTeX_envs_menu_present": true,
   "autoclose": false,
   "autocomplete": true,
   "bibliofile": "biblio.bib",
   "cite_by": "apalike",
   "current_citInitial": 1,
   "eqLabelWithNumbers": true,
   "eqNumInitial": 1,
   "hotkeys": {
    "equation": "Ctrl-E",
    "itemize": "Ctrl-I"
   },
   "labels_anchors": false,
   "latex_user_defs": false,
   "report_style_numbering": false,
   "user_envs_cfg": false
  },
  "toc": {
   "base_numbering": 1,
   "nav_menu": {},
   "number_sections": true,
   "sideBar": true,
   "skip_h1_title": false,
   "title_cell": "Table of Contents",
   "title_sidebar": "Contents",
   "toc_cell": false,
   "toc_position": {},
   "toc_section_display": true,
   "toc_window_display": false
  },
  "varInspector": {
   "cols": {
    "lenName": 16,
    "lenType": 16,
    "lenVar": 40
   },
   "kernels_config": {
    "python": {
     "delete_cmd_postfix": "",
     "delete_cmd_prefix": "del ",
     "library": "var_list.py",
     "varRefreshCmd": "print(var_dic_list())"
    },
    "r": {
     "delete_cmd_postfix": ") ",
     "delete_cmd_prefix": "rm(",
     "library": "var_list.r",
     "varRefreshCmd": "cat(var_dic_list()) "
    }
   },
   "types_to_exclude": [
    "module",
    "function",
    "builtin_function_or_method",
    "instance",
    "_Feature"
   ],
   "window_display": false
  }
 },
 "nbformat": 4,
 "nbformat_minor": 5
}
